{
 "cells": [
  {
   "cell_type": "code",
   "execution_count": 1,
   "metadata": {},
   "outputs": [],
   "source": [
    "import pandas as pd\n",
    "import numpy as np\n",
    "from sklearn.metrics import cohen_kappa_score, confusion_matrix"
   ]
  },
  {
   "cell_type": "code",
   "execution_count": 2,
   "metadata": {},
   "outputs": [],
   "source": [
    "df = pd.read_excel(\"dataset/voiced_data level_20231015.xlsx\")"
   ]
  },
  {
   "cell_type": "code",
   "execution_count": 3,
   "metadata": {},
   "outputs": [],
   "source": [
    "data_abort = df[df[\"dataset_bin\"].str.contains(\"abortion\", case=False)]\n",
    "data_gun = df[df[\"dataset_bin\"].str.contains(\"gun\", case=False)]\n",
    "data_gen = df[(~df[\"dataset_bin\"].str.contains(\"gun\", case=False)) & (~df[\"dataset_bin\"].str.contains(\"abortion\", case=False))]"
   ]
  },
  {
   "cell_type": "code",
   "execution_count": null,
   "metadata": {},
   "outputs": [],
   "source": [
    "vantage_arr = [\"ml\", \"DEM\", \"REP\", \"IND\", \"DEM_REP\", \"REP_DEM\", \"DEM_IND\", \"REP_IND\", \"IND_DEM\", \"IND_REP\"]\n",
    "\n",
    "for i in range(len(vantage_arr)):\n",
    "    for j in range(i+1, len(vantage_arr)):\n",
    "        a, b = vantage_arr[i], vantage_arr[j]\n",
    "        print(a, \"vs\", b)\n",
    "\n",
    "        ## filter based on dataset\n",
    "        # _df = data_gen[(data_gen[a]!=-1) & (data_gen[b]!=-1)]\n",
    "        # _df = data_gun[(data_gun[a]!=-1) & (data_gun[b]!=-1)]\n",
    "        _df = data_abort[(data_abort[a]!=-1) & (data_abort[b]!=-1)]\n",
    "        x = _df[a].values\n",
    "        y = _df[b].values\n",
    "\n",
    "        ## compute confusion metrix\n",
    "        print(np.round(confusion_matrix(x,y,normalize='all')*100, 2))\n",
    "        ## compute kappa\n",
    "        print(np.round(cohen_kappa_score(x,y), 2))"
   ]
  }
 ],
 "metadata": {
  "kernelspec": {
   "display_name": "Python 3.9.13 ('base')",
   "language": "python",
   "name": "python3"
  },
  "language_info": {
   "codemirror_mode": {
    "name": "ipython",
    "version": 3
   },
   "file_extension": ".py",
   "mimetype": "text/x-python",
   "name": "python",
   "nbconvert_exporter": "python",
   "pygments_lexer": "ipython3",
   "version": "3.9.13"
  },
  "orig_nbformat": 4,
  "vscode": {
   "interpreter": {
    "hash": "aceb42324b75a9bf78b98aa7346e5d8eff0fa8897468a0dab84ef13509829773"
   }
  }
 },
 "nbformat": 4,
 "nbformat_minor": 2
}
